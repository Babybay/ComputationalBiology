{
  "nbformat": 4,
  "nbformat_minor": 0,
  "metadata": {
    "colab": {
      "provenance": [],
      "authorship_tag": "ABX9TyMKqjm8S0qO66Oa62e3UYTh",
      "include_colab_link": true
    },
    "kernelspec": {
      "name": "python3",
      "display_name": "Python 3"
    },
    "language_info": {
      "name": "python"
    }
  },
  "cells": [
    {
      "cell_type": "markdown",
      "metadata": {
        "id": "view-in-github",
        "colab_type": "text"
      },
      "source": [
        "<a href=\"https://colab.research.google.com/github/Babybay/ComputationalBiology/blob/main/sesi_3_Protein_Synthesis.ipynb\" target=\"_parent\"><img src=\"https://colab.research.google.com/assets/colab-badge.svg\" alt=\"Open In Colab\"/></a>"
      ]
    },
    {
      "cell_type": "code",
      "source": [
        "!pip install BioPython"
      ],
      "metadata": {
        "colab": {
          "base_uri": "https://localhost:8080/"
        },
        "id": "dd5SSXNtp5Zm",
        "outputId": "f7c74903-80f6-4727-e42b-c683f197875b"
      },
      "execution_count": null,
      "outputs": [
        {
          "output_type": "stream",
          "name": "stdout",
          "text": [
            "Looking in indexes: https://pypi.org/simple, https://us-python.pkg.dev/colab-wheels/public/simple/\n",
            "Collecting BioPython\n",
            "  Downloading biopython-1.81-cp39-cp39-manylinux_2_17_x86_64.manylinux2014_x86_64.whl (3.1 MB)\n",
            "\u001b[2K     \u001b[90m━━━━━━━━━━━━━━━━━━━━━━━━━━━━━━━━━━━━━━━━\u001b[0m \u001b[32m3.1/3.1 MB\u001b[0m \u001b[31m42.3 MB/s\u001b[0m eta \u001b[36m0:00:00\u001b[0m\n",
            "\u001b[?25hRequirement already satisfied: numpy in /usr/local/lib/python3.9/dist-packages (from BioPython) (1.22.4)\n",
            "Installing collected packages: BioPython\n",
            "Successfully installed BioPython-1.81\n"
          ]
        }
      ]
    },
    {
      "cell_type": "code",
      "execution_count": null,
      "metadata": {
        "id": "yQQvAFluorm7"
      },
      "outputs": [],
      "source": [
        "import Bio\n",
        "from Bio.Seq import Seq"
      ]
    },
    {
      "cell_type": "code",
      "source": [
        "dnaSeq = Seq('ATGATCTCGTAA')\n",
        "dnaSeq"
      ],
      "metadata": {
        "colab": {
          "base_uri": "https://localhost:8080/"
        },
        "id": "iqucDEZOph93",
        "outputId": "25ab482a-8056-4d6a-dd7d-9c665d9d31cd"
      },
      "execution_count": null,
      "outputs": [
        {
          "output_type": "execute_result",
          "data": {
            "text/plain": [
              "Seq('ATGATCTCGTAA')"
            ]
          },
          "metadata": {},
          "execution_count": 6
        }
      ]
    },
    {
      "cell_type": "code",
      "source": [
        "#\n",
        "def dnaComplement(seq):\n",
        "  comp = ''\n",
        "\n",
        "  for s in seq:\n",
        "    if s == 'A':\n",
        "      comp += 'T'\n",
        "    if s == 'T':\n",
        "      comp += 'A'\n",
        "    if s == 'G':\n",
        "      comp += 'C'\n",
        "    if s == 'C':\n",
        "      comp += 'G'\n",
        "  return Seq(comp)"
      ],
      "metadata": {
        "id": "i_DLxhfQrHHo"
      },
      "execution_count": null,
      "outputs": []
    },
    {
      "cell_type": "code",
      "source": [
        "# complement\n",
        "print(\"Sequence =\",dnaSeq)\n",
        "print(\"Complement =\",dnaSeq.complement())\n",
        "\n",
        "# reverrse complement\n",
        "print(\"\\nReverse Complement =\", dnaSeq.reverse_complement())\n",
        "print(\"Reverse Complement =\",dnaSeq.complement()[::-1])\n",
        "print(\"\\n\")\n",
        "comp = dnaComplement(dnaSeq)\n",
        "print(dnaSeq)\n",
        "print(comp)"
      ],
      "metadata": {
        "colab": {
          "base_uri": "https://localhost:8080/"
        },
        "id": "1gMUixzBp_g2",
        "outputId": "ae5383cb-4b54-4be1-8570-b34608071f07"
      },
      "execution_count": null,
      "outputs": [
        {
          "output_type": "stream",
          "name": "stdout",
          "text": [
            "Sequence = ATGATCTCGTAA\n",
            "Complement = TACTAGAGCATT\n",
            "\n",
            "Reverse Complement = TTACGAGATCAT\n",
            "Reverse Complement = TTACGAGATCAT\n",
            "\n",
            "\n",
            "ATGATCTCGTAA\n",
            "TACTAGAGCATT\n"
          ]
        }
      ]
    },
    {
      "cell_type": "code",
      "source": [
        "# transcribe\n",
        "# transkripsi DNA ke mRNA\n",
        "\n",
        "print(dnaSeq)\n",
        "mrnaSeq = dnaSeq.transcribe()\n",
        "print(mrnaSeq)"
      ],
      "metadata": {
        "colab": {
          "base_uri": "https://localhost:8080/"
        },
        "id": "FZO4gWuos3Tf",
        "outputId": "821eb459-6ebb-446c-e6c2-fafa43bcbcbb"
      },
      "execution_count": null,
      "outputs": [
        {
          "output_type": "stream",
          "name": "stdout",
          "text": [
            "ATGATCTCGTAA\n",
            "AUGAUCUCGUAA\n"
          ]
        }
      ]
    },
    {
      "cell_type": "code",
      "source": [
        "# back_transcribe\n",
        "# mengubah mRNA ke DNA\n",
        "\n",
        "back = mrnaSeq.back_transcribe()\n",
        "print(\"DNA =\",dnaSeq)\n",
        "print(\"mRNA =\",mrnaSeq)\n",
        "print(back)"
      ],
      "metadata": {
        "colab": {
          "base_uri": "https://localhost:8080/"
        },
        "id": "8VELSzDstblP",
        "outputId": "f378e8b6-2ac7-4c8b-c41f-925797ba603a"
      },
      "execution_count": null,
      "outputs": [
        {
          "output_type": "stream",
          "name": "stdout",
          "text": [
            "DNA = ATGATCTCGTAA\n",
            "mRNA = AUGAUCUCGUAA\n",
            "ATGATCTCGTAA\n"
          ]
        }
      ]
    },
    {
      "cell_type": "code",
      "source": [
        "# translate\n",
        "# translasi: mRNA menjadi Protein / asam amino\n",
        "\n",
        "protein = mrnaSeq.translate()\n",
        "protein2 = dnaSeq.translate(stop_symbol = 'stop')\n",
        "protein3 = dnaSeq.transcribe().translate()\n",
        "\n",
        "print(mrnaSeq)\n",
        "print(protein)\n",
        "print(protein2)\n",
        "print(protein3)"
      ],
      "metadata": {
        "colab": {
          "base_uri": "https://localhost:8080/"
        },
        "id": "06j32T3huJZZ",
        "outputId": "0eb5ced0-b7d8-4457-a501-4c7b69915669"
      },
      "execution_count": null,
      "outputs": [
        {
          "output_type": "stream",
          "name": "stdout",
          "text": [
            "AUGAUCUCGUAA\n",
            "MIS*\n",
            "MISstop\n",
            "MIS*\n"
          ]
        }
      ]
    },
    {
      "cell_type": "code",
      "source": [
        "# codon table\n",
        "from Bio.Data import CodonTable"
      ],
      "metadata": {
        "id": "ztuhJazzvvjn"
      },
      "execution_count": null,
      "outputs": []
    },
    {
      "cell_type": "code",
      "source": [
        "# codon table by rna\n",
        "print(CodonTable.unambiguous_rna_by_name['Bacterial'])"
      ],
      "metadata": {
        "colab": {
          "base_uri": "https://localhost:8080/"
        },
        "id": "M6POP_s0v59_",
        "outputId": "313ca2ec-d175-435c-d4c5-89aa3ddd892b"
      },
      "execution_count": null,
      "outputs": [
        {
          "output_type": "stream",
          "name": "stdout",
          "text": [
            "Table 11 Bacterial, Archaeal, Plant Plastid\n",
            "\n",
            "  |  U      |  C      |  A      |  G      |\n",
            "--+---------+---------+---------+---------+--\n",
            "U | UUU F   | UCU S   | UAU Y   | UGU C   | U\n",
            "U | UUC F   | UCC S   | UAC Y   | UGC C   | C\n",
            "U | UUA L   | UCA S   | UAA Stop| UGA Stop| A\n",
            "U | UUG L(s)| UCG S   | UAG Stop| UGG W   | G\n",
            "--+---------+---------+---------+---------+--\n",
            "C | CUU L   | CCU P   | CAU H   | CGU R   | U\n",
            "C | CUC L   | CCC P   | CAC H   | CGC R   | C\n",
            "C | CUA L   | CCA P   | CAA Q   | CGA R   | A\n",
            "C | CUG L(s)| CCG P   | CAG Q   | CGG R   | G\n",
            "--+---------+---------+---------+---------+--\n",
            "A | AUU I(s)| ACU T   | AAU N   | AGU S   | U\n",
            "A | AUC I(s)| ACC T   | AAC N   | AGC S   | C\n",
            "A | AUA I(s)| ACA T   | AAA K   | AGA R   | A\n",
            "A | AUG M(s)| ACG T   | AAG K   | AGG R   | G\n",
            "--+---------+---------+---------+---------+--\n",
            "G | GUU V   | GCU A   | GAU D   | GGU G   | U\n",
            "G | GUC V   | GCC A   | GAC D   | GGC G   | C\n",
            "G | GUA V   | GCA A   | GAA E   | GGA G   | A\n",
            "G | GUG V(s)| GCG A   | GAG E   | GGG G   | G\n",
            "--+---------+---------+---------+---------+--\n"
          ]
        }
      ]
    },
    {
      "cell_type": "code",
      "source": [
        "#codon table by dna\n",
        "print(CodonTable.unambiguous_dna_by_name['Bacterial'])"
      ],
      "metadata": {
        "colab": {
          "base_uri": "https://localhost:8080/"
        },
        "id": "elm4i4SYw2ho",
        "outputId": "4cee46ce-222d-40ac-9800-0677e5d04202"
      },
      "execution_count": null,
      "outputs": [
        {
          "output_type": "stream",
          "name": "stdout",
          "text": [
            "Table 11 Bacterial, Archaeal, Plant Plastid\n",
            "\n",
            "  |  T      |  C      |  A      |  G      |\n",
            "--+---------+---------+---------+---------+--\n",
            "T | TTT F   | TCT S   | TAT Y   | TGT C   | T\n",
            "T | TTC F   | TCC S   | TAC Y   | TGC C   | C\n",
            "T | TTA L   | TCA S   | TAA Stop| TGA Stop| A\n",
            "T | TTG L(s)| TCG S   | TAG Stop| TGG W   | G\n",
            "--+---------+---------+---------+---------+--\n",
            "C | CTT L   | CCT P   | CAT H   | CGT R   | T\n",
            "C | CTC L   | CCC P   | CAC H   | CGC R   | C\n",
            "C | CTA L   | CCA P   | CAA Q   | CGA R   | A\n",
            "C | CTG L(s)| CCG P   | CAG Q   | CGG R   | G\n",
            "--+---------+---------+---------+---------+--\n",
            "A | ATT I(s)| ACT T   | AAT N   | AGT S   | T\n",
            "A | ATC I(s)| ACC T   | AAC N   | AGC S   | C\n",
            "A | ATA I(s)| ACA T   | AAA K   | AGA R   | A\n",
            "A | ATG M(s)| ACG T   | AAG K   | AGG R   | G\n",
            "--+---------+---------+---------+---------+--\n",
            "G | GTT V   | GCT A   | GAT D   | GGT G   | T\n",
            "G | GTC V   | GCC A   | GAC D   | GGC G   | C\n",
            "G | GTA V   | GCA A   | GAA E   | GGA G   | A\n",
            "G | GTG V(s)| GCG A   | GAG E   | GGG G   | G\n",
            "--+---------+---------+---------+---------+--\n"
          ]
        }
      ]
    },
    {
      "cell_type": "code",
      "source": [
        "from Bio.SeqUtils import seq1 # jadi 1 huruf\n",
        "from Bio.SeqUtils import seq3 # jadi 3 huruf"
      ],
      "metadata": {
        "id": "n0cHKuPNxG_W"
      },
      "execution_count": null,
      "outputs": []
    },
    {
      "cell_type": "code",
      "source": [
        "# ubah nama protein 1 huruf jadi 3 huruf\n",
        "\n",
        "protein = mrnaSeq.translate()\n",
        "\n",
        "proteinTriplet = seq3(protein)\n",
        "proteinSingle = seq1(proteinTriplet)\n",
        "\n",
        "print(protein)\n",
        "print(proteinTriplet)\n",
        "print(proteinSingle)"
      ],
      "metadata": {
        "colab": {
          "base_uri": "https://localhost:8080/"
        },
        "id": "V6gr4lEyxURn",
        "outputId": "2b8073e3-8615-4953-cadb-9aec6b71f7f1"
      },
      "execution_count": null,
      "outputs": [
        {
          "output_type": "stream",
          "name": "stdout",
          "text": [
            "MIS*\n",
            "MetIleSerTer\n",
            "MIS*\n"
          ]
        }
      ]
    },
    {
      "cell_type": "code",
      "source": [
        "!pip install py3Dmol\n",
        "import py3Dmol"
      ],
      "metadata": {
        "colab": {
          "base_uri": "https://localhost:8080/"
        },
        "id": "bVqJXx6ByUgP",
        "outputId": "8651c531-889d-4439-dfdd-3ea455a2701d"
      },
      "execution_count": null,
      "outputs": [
        {
          "output_type": "stream",
          "name": "stdout",
          "text": [
            "Looking in indexes: https://pypi.org/simple, https://us-python.pkg.dev/colab-wheels/public/simple/\n",
            "Collecting py3Dmol\n",
            "  Downloading py3Dmol-2.0.1.post1-py2.py3-none-any.whl (12 kB)\n",
            "Installing collected packages: py3Dmol\n",
            "Successfully installed py3Dmol-2.0.1.post1\n"
          ]
        }
      ]
    },
    {
      "cell_type": "code",
      "source": [
        "# 3d Structure Protein\n",
        "view1 = py3Dmol.view(query = 'pdb:9ins')\n",
        "view1.setStyle({'cartoon':{'color' : 'spectrum'}})"
      ],
      "metadata": {
        "colab": {
          "base_uri": "https://localhost:8080/",
          "height": 514
        },
        "id": "AJfrwWBGyRk4",
        "outputId": "493d1488-46f9-4e2d-e6ac-ba7e6fbe2a4e"
      },
      "execution_count": null,
      "outputs": [
        {
          "output_type": "display_data",
          "data": {
            "application/3dmoljs_load.v0": "<div id=\"3dmolviewer_16800683902556171\"  style=\"position: relative; width: 640px; height: 480px\">\n        <p id=\"3dmolwarning_16800683902556171\" style=\"background-color:#ffcccc;color:black\">You appear to be running in JupyterLab (or JavaScript failed to load for some other reason).  You need to install the 3dmol extension: <br>\n        <tt>jupyter labextension install jupyterlab_3dmol</tt></p>\n        </div>\n<script>\n\nvar loadScriptAsync = function(uri){\n  return new Promise((resolve, reject) => {\n    //this is to ignore the existence of requirejs amd\n    var savedexports, savedmodule;\n    if (typeof exports !== 'undefined') savedexports = exports;\n    else exports = {}\n    if (typeof module !== 'undefined') savedmodule = module;\n    else module = {}\n\n    var tag = document.createElement('script');\n    tag.src = uri;\n    tag.async = true;\n    tag.onload = () => {\n        exports = savedexports;\n        module = savedmodule;\n        resolve();\n    };\n  var firstScriptTag = document.getElementsByTagName('script')[0];\n  firstScriptTag.parentNode.insertBefore(tag, firstScriptTag);\n});\n};\n\nif(typeof $3Dmolpromise === 'undefined') {\n$3Dmolpromise = null;\n  $3Dmolpromise = loadScriptAsync('https://cdnjs.cloudflare.com/ajax/libs/3Dmol/2.0.1/3Dmol-min.js');\n}\n\nvar viewer_16800683902556171 = null;\nvar warn = document.getElementById(\"3dmolwarning_16800683902556171\");\nif(warn) {\n    warn.parentNode.removeChild(warn);\n}\n$3Dmolpromise.then(function() {\nviewer_16800683902556171 = $3Dmol.createViewer(document.getElementById(\"3dmolviewer_16800683902556171\"),{backgroundColor:\"white\"});\n$3Dmol.download(\"pdb:9ins\", viewer_16800683902556171, {}, function() {\nviewer_16800683902556171.zoomTo();\n\tviewer_16800683902556171.setStyle({\"cartoon\": {\"color\": \"spectrum\"}});\nviewer_16800683902556171.render();\n})\n});\n</script>",
            "text/html": [
              "<div id=\"3dmolviewer_16800683902556171\"  style=\"position: relative; width: 640px; height: 480px\">\n",
              "        <p id=\"3dmolwarning_16800683902556171\" style=\"background-color:#ffcccc;color:black\">You appear to be running in JupyterLab (or JavaScript failed to load for some other reason).  You need to install the 3dmol extension: <br>\n",
              "        <tt>jupyter labextension install jupyterlab_3dmol</tt></p>\n",
              "        </div>\n",
              "<script>\n",
              "\n",
              "var loadScriptAsync = function(uri){\n",
              "  return new Promise((resolve, reject) => {\n",
              "    //this is to ignore the existence of requirejs amd\n",
              "    var savedexports, savedmodule;\n",
              "    if (typeof exports !== 'undefined') savedexports = exports;\n",
              "    else exports = {}\n",
              "    if (typeof module !== 'undefined') savedmodule = module;\n",
              "    else module = {}\n",
              "\n",
              "    var tag = document.createElement('script');\n",
              "    tag.src = uri;\n",
              "    tag.async = true;\n",
              "    tag.onload = () => {\n",
              "        exports = savedexports;\n",
              "        module = savedmodule;\n",
              "        resolve();\n",
              "    };\n",
              "  var firstScriptTag = document.getElementsByTagName('script')[0];\n",
              "  firstScriptTag.parentNode.insertBefore(tag, firstScriptTag);\n",
              "});\n",
              "};\n",
              "\n",
              "if(typeof $3Dmolpromise === 'undefined') {\n",
              "$3Dmolpromise = null;\n",
              "  $3Dmolpromise = loadScriptAsync('https://cdnjs.cloudflare.com/ajax/libs/3Dmol/2.0.1/3Dmol-min.js');\n",
              "}\n",
              "\n",
              "var viewer_16800683902556171 = null;\n",
              "var warn = document.getElementById(\"3dmolwarning_16800683902556171\");\n",
              "if(warn) {\n",
              "    warn.parentNode.removeChild(warn);\n",
              "}\n",
              "$3Dmolpromise.then(function() {\n",
              "viewer_16800683902556171 = $3Dmol.createViewer(document.getElementById(\"3dmolviewer_16800683902556171\"),{backgroundColor:\"white\"});\n",
              "$3Dmol.download(\"pdb:9ins\", viewer_16800683902556171, {}, function() {\n",
              "viewer_16800683902556171.zoomTo();\n",
              "\tviewer_16800683902556171.setStyle({\"cartoon\": {\"color\": \"spectrum\"}});\n",
              "viewer_16800683902556171.render();\n",
              "})\n",
              "});\n",
              "</script>"
            ]
          },
          "metadata": {}
        },
        {
          "output_type": "execute_result",
          "data": {
            "text/plain": [
              "<py3Dmol.view at 0x7faaf84b4550>"
            ]
          },
          "metadata": {},
          "execution_count": 34
        }
      ]
    },
    {
      "cell_type": "code",
      "source": [
        "# Latihan Soal\n",
        "\n",
        "dnaSeqA = Seq(\"ATGCGTTTATGACGTATCTGAAGTCTACTAGGGTGATCTGACTAA\")\n",
        "dnaSeqB = Seq(\"GTGTTAGTGCGCTAGTGCTGACTAGGTACAGTAGCTAGTTACTAG\")\n",
        "\n",
        "# nomor 1\n",
        "mrnaSeqA = dnaSeqA.transcribe()\n",
        "print(mrnaSeqA)\n",
        "mrnaSeqB = dnaSeqB.transcribe()\n",
        "print(mrnaSeqB)\n",
        "\n",
        "# nomor 2\n",
        "mrnaC = mrnaSeqA[:24] + mrnaSeqB[-21:]\n",
        "print(mrnaC)\n",
        "\n",
        "# nomor 3\n",
        "proteinA = mrnaSeqA.translate()\n",
        "proteinB = mrnaSeqB.translate()\n",
        "proteinC = mrnaC.translate()\n",
        "\n",
        "print(proteinA)\n",
        "print(proteinB)\n",
        "print(proteinC)\n",
        "\n",
        "# nomor 4\n",
        "dnaC = mrnaC.back_transcribe()\n",
        "print(dnaC)\n",
        "\n",
        "#nomor 5\n",
        "compA = dnaSeqA.complement()\n",
        "compB = dnaSeqB.complement()\n",
        "compC = dnaC.complement()\n",
        "\n",
        "print(compA)\n",
        "print(compB)\n",
        "print(compC)"
      ],
      "metadata": {
        "colab": {
          "base_uri": "https://localhost:8080/"
        },
        "id": "PoYyVgMq08TI",
        "outputId": "91e57114-9a6d-4e71-967a-ee5c1c728d3e"
      },
      "execution_count": null,
      "outputs": [
        {
          "output_type": "stream",
          "name": "stdout",
          "text": [
            "AUGCGUUUAUGACGUAUCUGAAGUCUACUAGGGUGAUCUGACUAA\n",
            "GUGUUAGUGCGCUAGUGCUGACUAGGUACAGUAGCUAGUUACUAG\n",
            "AUGCGUUUAUGACGUAUCUGAAGUGGUACAGUAGCUAGUUACUAG\n",
            "MRL*RI*SLLG*SD*\n",
            "VLVR*C*LGTVASY*\n",
            "MRL*RI*SGTVASY*\n",
            "ATGCGTTTATGACGTATCTGAAGTGGTACAGTAGCTAGTTACTAG\n",
            "TACGCAAATACTGCATAGACTTCAGATGATCCCACTAGACTGATT\n",
            "CACAATCACGCGATCACGACTGATCCATGTCATCGATCAATGATC\n",
            "TACGCAAATACTGCATAGACTTCACCATGTCATCGATCAATGATC\n"
          ]
        }
      ]
    }
  ]
}
