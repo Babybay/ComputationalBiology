{
  "nbformat": 4,
  "nbformat_minor": 0,
  "metadata": {
    "colab": {
      "provenance": []
    },
    "kernelspec": {
      "name": "python3",
      "display_name": "Python 3"
    },
    "language_info": {
      "name": "python"
    }
  },
  "cells": [
    {
      "cell_type": "markdown",
      "source": [
        "Bisection Method"
      ],
      "metadata": {
        "id": "HtJfwNskpiYo"
      }
    },
    {
      "cell_type": "code",
      "execution_count": null,
      "metadata": {
        "id": "SJGruSTYpayN"
      },
      "outputs": [],
      "source": [
        "def f (x):\n",
        "    return x**2 - 2"
      ]
    },
    {
      "cell_type": "code",
      "source": [
        "import numpy as np\n",
        "\n",
        "def bisection(a, b, tolerance = 0.001):\n",
        "    if(np.sign(f(a)) == np.sign(f(b))):\n",
        "        print(\"Not Possible to Solve with this A and B coordinate\")\n",
        "        return None\n",
        "\n",
        "    m = (a+b)/2\n",
        "    if(np.abs(f(m)) < tolerance):\n",
        "        return m\n",
        "    elif(np.sign(f(a)) == np.sign(f(m))):\n",
        "        return bisection(m,b,tolerance)\n",
        "    elif(np.sign(f(m)) == np.sign(f(b))):\n",
        "        return bisection(a,m,tolerance)\n",
        "\n",
        "bisection(1,2)"
      ],
      "metadata": {
        "colab": {
          "base_uri": "https://localhost:8080/"
        },
        "id": "JnMqjsvsprnu",
        "outputId": "8b4736f8-ea1e-4a2b-d52a-0157eeea2c61"
      },
      "execution_count": null,
      "outputs": [
        {
          "output_type": "execute_result",
          "data": {
            "text/plain": [
              "1.4140625"
            ]
          },
          "metadata": {},
          "execution_count": 5
        }
      ]
    }
  ]
}